{
 "cells": [
  {
   "cell_type": "markdown",
   "id": "6a8d12bc",
   "metadata": {},
   "source": [
    "### 1. Imports"
   ]
  },
  {
   "cell_type": "code",
   "execution_count": null,
   "id": "944099fe",
   "metadata": {},
   "outputs": [],
   "source": [
    "import os\n",
    "import csv\n",
    "import random\n",
    "from pathlib import Path\n",
    "from typing import Tuple, List\n",
    "\n",
    "import numpy as np\n",
    "import pandas as pd\n",
    "from PIL import Image\n",
    "\n",
    "import torch\n",
    "import torch.nn as nn\n",
    "from torch.utils.data import Dataset, DataLoader, random_split\n",
    "\n",
    "from sklearn.metrics import roc_curve, auc, confusion_matrix, accuracy_score, precision_score, recall_score, f1_score, roc_auc_score\n",
    "import matplotlib.pyplot as plt\n",
    "%matplotlib inline\n"
   ]
  },
  {
   "cell_type": "markdown",
   "id": "9020355b",
   "metadata": {},
   "source": [
    "### 2. Globals"
   ]
  },
  {
   "cell_type": "code",
   "execution_count": null,
   "id": "e1577b59",
   "metadata": {},
   "outputs": [],
   "source": [
    "ROOT_DIR     = Path('.')\n",
    "CSV_PATH     = ROOT_DIR/'data/images/0_data.csv'\n",
    "MASK_DIR     = ROOT_DIR/'data/masked'          # contains IMG_xxxx_mask.jpg\n",
    "SEED         = 42\n",
    "BATCH_SIZE   = 64\n",
    "LR           = 1e-3\n",
    "EPOCHS       = 150\n",
    "VAL_SPLIT    = 0.30                            # 80 / 20\n",
    "DEVICE       = 'cuda' if torch.cuda.is_available() else 'cpu'\n",
    "\n",
    "torch.manual_seed(SEED)\n",
    "random.seed(SEED)\n",
    "np.random.seed(SEED)\n"
   ]
  },
  {
   "cell_type": "markdown",
   "id": "ad1916ed",
   "metadata": {},
   "source": [
    "### 3. Utils"
   ]
  },
  {
   "cell_type": "code",
   "execution_count": null,
   "id": "57023be0",
   "metadata": {},
   "outputs": [],
   "source": [
    "# Colour codes on the active device (cuda or cpu)\n",
    "WORM_RGB = torch.tensor([255,   0,   0], dtype=torch.uint8, device=DEVICE)   # red\n",
    "LEAF_RGB = torch.tensor([  0, 255,   0], dtype=torch.uint8, device=DEVICE)   # green\n",
    "BACK_RGB = torch.tensor([128, 128, 128], dtype=torch.uint8, device=DEVICE)   # gray\n",
    "\n",
    "@torch.no_grad()\n",
    "def class_pixel_counts(img: Image.Image) -> torch.Tensor:\n",
    "    \"\"\"\n",
    "    Returns a 3-element CUDA/CPU tensor [worms, leaves, background] with pixel counts.\n",
    "    Run on GPU if available\n",
    "    \"\"\"\n",
    "    # PIL → writable NumPy → tensor on DEVICE\n",
    "    arr = torch.from_numpy(np.asarray(img, dtype=np.uint8).copy()).to(DEVICE)   # H×W×3 uint8\n",
    "    worms = torch.all(arr == WORM_RGB, dim=-1)\n",
    "    leaves = torch.all(arr == LEAF_RGB, dim=-1)\n",
    "    backs  = torch.all(arr == BACK_RGB, dim=-1)\n",
    "    return torch.stack([worms.sum(), leaves.sum(), backs.sum()]).float()        # shape (3,)\n",
    "\n",
    "def to_ratios(cnt: torch.Tensor) -> torch.Tensor:\n",
    "    \"\"\"\n",
    "    Normalise the three counts so they sum to 1.0  ➜ tensor(shape=(3,))\n",
    "    \"\"\"\n",
    "    return cnt / (cnt.sum() + 1e-6)"
   ]
  },
  {
   "cell_type": "markdown",
   "id": "3c5337fe",
   "metadata": {},
   "source": [
    "### 4. Data"
   ]
  },
  {
   "cell_type": "code",
   "execution_count": null,
   "id": "937ef935",
   "metadata": {},
   "outputs": [
    {
     "name": "stdout",
     "output_type": "stream",
     "text": [
      "Dataset sizes ➜  Train: 945   Val: 406\n"
     ]
    }
   ],
   "source": [
    "class SilkwormFeedDataset(Dataset):\n",
    "    \"\"\"\n",
    "    Each sample (ratios[worm, leaf, back]  (device),  label (device))\n",
    "    \"\"\"\n",
    "    def __init__(self, csv_file: Path, mask_dir: Path):\n",
    "        df = pd.read_csv(csv_file, engine='python')\n",
    "        feats, labels = [], []\n",
    "\n",
    "        for _, row in df.iterrows():\n",
    "            mask_path = mask_dir / f\"{Path(row['foto']).stem}_mask.png\"\n",
    "            if not mask_path.exists():\n",
    "                continue\n",
    "            counts = class_pixel_counts(Image.open(mask_path))\n",
    "            feats.append(to_ratios(counts))\n",
    "            labels.append(float(row['classificazione']))\n",
    "\n",
    "        self.x = torch.stack(feats).to(DEVICE)                  # [N, 3]\n",
    "        self.y = torch.tensor(labels, dtype=torch.float32, device=DEVICE).unsqueeze(1) # [N, 1]\n",
    "\n",
    "    def __len__(self):          \n",
    "        return len(self.x)\n",
    "    \n",
    "    def __getitem__(self, idx): \n",
    "        return self.x[idx], self.y[idx]\n",
    "\n",
    "\n",
    "\n",
    "# 35s to load dataset on 1660 Ti Mobile\n",
    "full_ds = SilkwormFeedDataset(CSV_PATH, MASK_DIR)\n",
    "train_sz = int(len(full_ds) * (1 - VAL_SPLIT))\n",
    "val_sz   = len(full_ds) - train_sz\n",
    "train_ds, val_ds = random_split(full_ds, [train_sz, val_sz], generator=torch.Generator().manual_seed(SEED))\n",
    "\n",
    "train_loader = DataLoader(train_ds, batch_size=BATCH_SIZE, shuffle=True)\n",
    "val_loader   = DataLoader(val_ds,   batch_size=BATCH_SIZE, shuffle=False)\n",
    "\n",
    "print(f\"Dataset sizes ➜  Train: {len(train_ds)}   Val: {len(val_ds)}\")\n"
   ]
  },
  {
   "cell_type": "markdown",
   "id": "87dc3849",
   "metadata": {},
   "source": [
    "### 5. Network"
   ]
  },
  {
   "cell_type": "code",
   "execution_count": 65,
   "id": "48f5ae0e",
   "metadata": {},
   "outputs": [],
   "source": [
    "class ThresholdLearner(nn.Module):\n",
    "    \"\"\"\n",
    "    Logistic regressor on three input ratios: [worm, leaf, background].\n",
    "    \"\"\"\n",
    "    def __init__(self):\n",
    "        super().__init__()\n",
    "        self.fc = nn.Linear(3, 1)\n",
    "\n",
    "    def forward(self, x):\n",
    "        return torch.sigmoid(self.fc(x))\n",
    "\n",
    "model     = ThresholdLearner().to(DEVICE)\n",
    "criterion = nn.BCELoss()\n",
    "optimizer = torch.optim.Adam(model.parameters(), lr=LR)"
   ]
  },
  {
   "cell_type": "markdown",
   "id": "9ddcb404",
   "metadata": {},
   "source": [
    "### 6. Train"
   ]
  },
  {
   "cell_type": "code",
   "execution_count": 66,
   "id": "dd272017",
   "metadata": {},
   "outputs": [
    {
     "name": "stdout",
     "output_type": "stream",
     "text": [
      "Epoch 001/150  train loss: 0.7413  val loss: 0.7768  val AUC: 0.0485\n",
      "Epoch 010/150  train loss: 0.7049  val loss: 0.7358  val AUC: 0.9515\n",
      "Epoch 020/150  train loss: 0.6709  val loss: 0.6988  val AUC: 0.9515\n",
      "Epoch 030/150  train loss: 0.6412  val loss: 0.6671  val AUC: 0.9515\n",
      "Epoch 040/150  train loss: 0.6146  val loss: 0.6394  val AUC: 0.9515\n",
      "Epoch 050/150  train loss: 0.5906  val loss: 0.6147  val AUC: 0.9515\n",
      "Epoch 060/150  train loss: 0.5688  val loss: 0.5927  val AUC: 0.9515\n",
      "Epoch 070/150  train loss: 0.5487  val loss: 0.5726  val AUC: 0.9515\n",
      "Epoch 080/150  train loss: 0.5301  val loss: 0.5542  val AUC: 0.9515\n",
      "Epoch 090/150  train loss: 0.5128  val loss: 0.5371  val AUC: 0.9515\n",
      "Epoch 100/150  train loss: 0.4967  val loss: 0.5215  val AUC: 0.9515\n",
      "Epoch 110/150  train loss: 0.4817  val loss: 0.5069  val AUC: 0.9515\n",
      "Epoch 120/150  train loss: 0.4676  val loss: 0.4933  val AUC: 0.9515\n",
      "Epoch 130/150  train loss: 0.4543  val loss: 0.4806  val AUC: 0.9515\n",
      "Epoch 140/150  train loss: 0.4418  val loss: 0.4685  val AUC: 0.9515\n",
      "Epoch 150/150  train loss: 0.4300  val loss: 0.4573  val AUC: 0.9515\n"
     ]
    }
   ],
   "source": [
    "def run_epoch(loader, train: bool):\n",
    "    model.train() if train else model.eval()\n",
    "\n",
    "    epoch_loss, preds, gts = 0.0, [], []\n",
    "\n",
    "    for x, y in loader:                       # x, y already on DEVICE\n",
    "        with torch.set_grad_enabled(train):\n",
    "            out  = model(x)\n",
    "            loss = criterion(out, y)\n",
    "            if train:\n",
    "                optimizer.zero_grad()\n",
    "                loss.backward()\n",
    "                optimizer.step()\n",
    "\n",
    "        epoch_loss += loss.item() * x.size(0)\n",
    "        preds.append(out.detach().cpu())\n",
    "        gts.append(y.detach().cpu())\n",
    "\n",
    "    preds = torch.cat(preds).numpy().ravel()\n",
    "    gts   = torch.cat(gts).numpy().ravel()\n",
    "    return epoch_loss / len(loader.dataset), preds, gts\n",
    "\n",
    "history = {'train_loss':[], 'val_loss':[], 'val_auc':[]}\n",
    "\n",
    "for epoch in range(EPOCHS):\n",
    "    tr_loss, _, _ = run_epoch(train_loader, train=True)\n",
    "    val_loss, val_preds, val_gt = run_epoch(val_loader, train=False)\n",
    "    auc_val = roc_auc_score(val_gt, val_preds)\n",
    "    history['train_loss'].append(tr_loss)\n",
    "    history['val_loss'].append(val_loss)\n",
    "    history['val_auc'].append(auc_val)\n",
    "\n",
    "    if (epoch+1) % 10 == 0 or epoch == 0:\n",
    "        print(f\"Epoch {epoch+1:03d}/{EPOCHS}  \"\n",
    "              f\"train loss: {tr_loss:.4f}  val loss: {val_loss:.4f}  val AUC: {auc_val:.4f}\")"
   ]
  },
  {
   "cell_type": "markdown",
   "id": "4198e531",
   "metadata": {},
   "source": [
    "### 7. Evaluation"
   ]
  },
  {
   "cell_type": "code",
   "execution_count": 69,
   "id": "698a0ba8",
   "metadata": {},
   "outputs": [
    {
     "data": {
      "image/png": "[encoded data removed]",
      "text/plain": [
       "<Figure size 600x400 with 1 Axes>"
      ]
     },
     "metadata": {},
     "output_type": "display_data"
    },
    {
     "name": "stdout",
     "output_type": "stream",
     "text": [
      "Best value near upper left corner!\n"
     ]
    },
    {
     "data": {
      "image/png": "[encoded data removed]",
      "text/plain": [
       "<Figure size 400x300 with 1 Axes>"
      ]
     },
     "metadata": {},
     "output_type": "display_data"
    },
    {
     "data": {
      "text/html": [
       "<style type=\"text/css\">\n",
       "#T_44c59_row2_col0, #T_44c59_row2_col1, #T_44c59_row2_col2, #T_44c59_row2_col3, #T_44c59_row2_col4, #T_44c59_row2_col5, #T_44c59_row2_col6 {\n",
       "  background-color: darkgreen;\n",
       "}\n",
       "</style>\n",
       "<table id=\"T_44c59\">\n",
       "  <thead>\n",
       "    <tr>\n",
       "      <th class=\"blank level0\" >&nbsp;</th>\n",
       "      <th id=\"T_44c59_level0_col0\" class=\"col_heading level0 col0\" >Threshold</th>\n",
       "      <th id=\"T_44c59_level0_col1\" class=\"col_heading level0 col1\" >Accuracy</th>\n",
       "      <th id=\"T_44c59_level0_col2\" class=\"col_heading level0 col2\" >Precision</th>\n",
       "      <th id=\"T_44c59_level0_col3\" class=\"col_heading level0 col3\" >Recall</th>\n",
       "      <th id=\"T_44c59_level0_col4\" class=\"col_heading level0 col4\" >F1</th>\n",
       "      <th id=\"T_44c59_level0_col5\" class=\"col_heading level0 col5\" >Specificity</th>\n",
       "      <th id=\"T_44c59_level0_col6\" class=\"col_heading level0 col6\" >FPR</th>\n",
       "    </tr>\n",
       "  </thead>\n",
       "  <tbody>\n",
       "    <tr>\n",
       "      <th id=\"T_44c59_level0_row0\" class=\"row_heading level0 row0\" >0</th>\n",
       "      <td id=\"T_44c59_row0_col0\" class=\"data row0 col0\" >0.2410</td>\n",
       "      <td id=\"T_44c59_row0_col1\" class=\"data row0 col1\" >0.532</td>\n",
       "      <td id=\"T_44c59_row0_col2\" class=\"data row0 col2\" >0.532</td>\n",
       "      <td id=\"T_44c59_row0_col3\" class=\"data row0 col3\" >1.000</td>\n",
       "      <td id=\"T_44c59_row0_col4\" class=\"data row0 col4\" >0.695</td>\n",
       "      <td id=\"T_44c59_row0_col5\" class=\"data row0 col5\" >0.000</td>\n",
       "      <td id=\"T_44c59_row0_col6\" class=\"data row0 col6\" >1.000</td>\n",
       "    </tr>\n",
       "    <tr>\n",
       "      <th id=\"T_44c59_level0_row1\" class=\"row_heading level0 row1\" >1</th>\n",
       "      <td id=\"T_44c59_row1_col0\" class=\"data row1 col0\" >0.5841</td>\n",
       "      <td id=\"T_44c59_row1_col1\" class=\"data row1 col1\" >0.936</td>\n",
       "      <td id=\"T_44c59_row1_col2\" class=\"data row1 col2\" >0.924</td>\n",
       "      <td id=\"T_44c59_row1_col3\" class=\"data row1 col3\" >0.958</td>\n",
       "      <td id=\"T_44c59_row1_col4\" class=\"data row1 col4\" >0.941</td>\n",
       "      <td id=\"T_44c59_row1_col5\" class=\"data row1 col5\" >0.911</td>\n",
       "      <td id=\"T_44c59_row1_col6\" class=\"data row1 col6\" >0.089</td>\n",
       "    </tr>\n",
       "    <tr>\n",
       "      <th id=\"T_44c59_level0_row2\" class=\"row_heading level0 row2\" >2</th>\n",
       "      <td id=\"T_44c59_row2_col0\" class=\"data row2 col0\" >0.5867</td>\n",
       "      <td id=\"T_44c59_row2_col1\" class=\"data row2 col1\" >0.936</td>\n",
       "      <td id=\"T_44c59_row2_col2\" class=\"data row2 col2\" >0.928</td>\n",
       "      <td id=\"T_44c59_row2_col3\" class=\"data row2 col3\" >0.954</td>\n",
       "      <td id=\"T_44c59_row2_col4\" class=\"data row2 col4\" >0.941</td>\n",
       "      <td id=\"T_44c59_row2_col5\" class=\"data row2 col5\" >0.916</td>\n",
       "      <td id=\"T_44c59_row2_col6\" class=\"data row2 col6\" >0.084</td>\n",
       "    </tr>\n",
       "    <tr>\n",
       "      <th id=\"T_44c59_level0_row3\" class=\"row_heading level0 row3\" >3</th>\n",
       "      <td id=\"T_44c59_row3_col0\" class=\"data row3 col0\" >0.5838</td>\n",
       "      <td id=\"T_44c59_row3_col1\" class=\"data row3 col1\" >0.936</td>\n",
       "      <td id=\"T_44c59_row3_col2\" class=\"data row3 col2\" >0.920</td>\n",
       "      <td id=\"T_44c59_row3_col3\" class=\"data row3 col3\" >0.963</td>\n",
       "      <td id=\"T_44c59_row3_col4\" class=\"data row3 col4\" >0.941</td>\n",
       "      <td id=\"T_44c59_row3_col5\" class=\"data row3 col5\" >0.905</td>\n",
       "      <td id=\"T_44c59_row3_col6\" class=\"data row3 col6\" >0.095</td>\n",
       "    </tr>\n",
       "    <tr>\n",
       "      <th id=\"T_44c59_level0_row4\" class=\"row_heading level0 row4\" >4</th>\n",
       "      <td id=\"T_44c59_row4_col0\" class=\"data row4 col0\" >0.8228</td>\n",
       "      <td id=\"T_44c59_row4_col1\" class=\"data row4 col1\" >0.466</td>\n",
       "      <td id=\"T_44c59_row4_col2\" class=\"data row4 col2\" >0.000</td>\n",
       "      <td id=\"T_44c59_row4_col3\" class=\"data row4 col3\" >0.000</td>\n",
       "      <td id=\"T_44c59_row4_col4\" class=\"data row4 col4\" >0.000</td>\n",
       "      <td id=\"T_44c59_row4_col5\" class=\"data row4 col5\" >0.995</td>\n",
       "      <td id=\"T_44c59_row4_col6\" class=\"data row4 col6\" >0.005</td>\n",
       "    </tr>\n",
       "  </tbody>\n",
       "</table>\n"
      ],
      "text/plain": [
       "<pandas.io.formats.style.Styler at 0x722d18813690>"
      ]
     },
     "metadata": {},
     "output_type": "display_data"
    },
    {
     "name": "stdout",
     "output_type": "stream",
     "text": [
      "False Positive Rate (FPR) - wrong feeding ratio   = FP / (FP + TN)\n",
      "Specificity               - correct feeding ratio = TN / (TN + FP) = 1 − FPR\n"
     ]
    }
   ],
   "source": [
    "# Evaluate model\n",
    "\n",
    "# 1. ROC CURVE\n",
    "# Compute ROC curve and find best threshold\n",
    "fpr, tpr, thresh = roc_curve(val_gt, val_preds)\n",
    "roc_auc = auc(fpr, tpr)\n",
    "best_idx = np.argmax(tpr - fpr)\n",
    "best_th = thresh[best_idx]\n",
    "\n",
    "# pick five thresholds: min, max, best, plus two next-best\n",
    "valid = np.sort(np.unique(thresh[(thresh>0)&(thresh<1)]))\n",
    "low, high = valid[0], valid[-1]\n",
    "order = np.argsort(tpr - fpr)[::-1]\n",
    "alts = [t for i,t in zip(order, thresh[order]) if t not in (low, high, best_th)][:2]\n",
    "cands = [low, alts[0], best_th, alts[1], high]\n",
    "\n",
    "# Plot ROC with markers\n",
    "plt.figure(figsize=(6,4))\n",
    "plt.plot(fpr, tpr, label=f\"AUC {roc_auc:.3f}\")\n",
    "plt.plot([0,1],[0,1],'--', color='.5')\n",
    "pts = [(fpr[np.where(thresh==t)[0][0]], tpr[np.where(thresh==t)[0][0]]) for t in cands]\n",
    "xs, ys = zip(*pts)\n",
    "plt.scatter(xs, ys, color='red')\n",
    "for x,y,t in zip(xs, ys, cands):\n",
    "    plt.text(x+0.02, y-0.02, f\"{t:.2f}\", fontsize=8)\n",
    "\n",
    "plt.xlabel(\"False Positive Rate\"); plt.ylabel(\"True Positive Rate\")\n",
    "plt.legend(); plt.title(\"ROC Curve\"); plt.show()\n",
    "\n",
    "print(\"Best value near upper left corner!\")\n",
    "\n",
    "# 2. CONFUSION MATRIX\n",
    "# Confusion matrix at best threshold\n",
    "pred_best = (val_preds >= best_th).astype(int)\n",
    "cm = confusion_matrix(val_gt, pred_best)\n",
    "plt.figure(figsize=(4,3))\n",
    "plt.imshow(cm, cmap=\"Blues\"); plt.title(f\"Confusion Matrix τ={best_th:.3f}\")\n",
    "plt.xticks([0,1],[\"No Feed\",\"Feed\"]); plt.yticks([0,1],[\"No Feed\",\"Feed\"])\n",
    "for i in (0,1):\n",
    "    for j in (0,1):\n",
    "        plt.text(j, i, cm[i,j], ha='center', va='center',\n",
    "                 color='white' if cm[i,j]>cm.max()/2 else 'black')\n",
    "plt.xlabel(\"Predicted\"); plt.ylabel(\"Actual\"); plt.tight_layout(); plt.show()\n",
    "\n",
    "# 3. METRICS TABLE\n",
    "# Build metrics table for each candidate threshold\n",
    "rows = []\n",
    "for t in cands:\n",
    "    pred = (val_preds >= t).astype(int)\n",
    "    tn, fp, fn, tp = confusion_matrix(val_gt, pred).ravel()\n",
    "    rows.append({\n",
    "        \"Threshold\": t,\n",
    "        \"Accuracy\": accuracy_score(val_gt, pred),\n",
    "        \"Precision\": precision_score(val_gt, pred, zero_division=0),\n",
    "        \"Recall\": recall_score(val_gt, pred),\n",
    "        \"F1\": f1_score(val_gt, pred, zero_division=0),\n",
    "        \"Specificity\": tn/(tn+fp) if tn+fp else 0,\n",
    "        \"FPR\": fp/(fp+tn) if fp+tn else 0\n",
    "    })\n",
    "df = pd.DataFrame(rows)\n",
    "\n",
    "# highlight the best-threshold row in light green\n",
    "def highlight_best(row):\n",
    "    return [\"background-color: darkgreen\" if row.Threshold==best_th else \"\" for _ in row]\n",
    "\n",
    "display(\n",
    "    df.style\n",
    "      .format({\"Threshold\":\"{:.4f}\",\"Accuracy\":\"{:.3f}\",\"Precision\":\"{:.3f}\", \"Recall\":\"{:.3f}\",\"F1\":\"{:.3f}\",\"Specificity\":\"{:.3f}\",\"FPR\":\"{:.3f}\"})\n",
    "      .apply(highlight_best, axis=1)\n",
    ")\n",
    "\n",
    "# Quick definitions\n",
    "print(\"False Positive Rate (FPR) - wrong feeding ratio   = FP / (FP + TN)\\n\"\n",
    "      \"Specificity               - correct feeding ratio = TN / (TN + FP) = 1 − FPR\")\n"
   ]
  }
 ],
 "metadata": {
  "kernelspec": {
   "display_name": "silkworm",
   "language": "python",
   "name": "python3"
  },
  "language_info": {
   "codemirror_mode": {
    "name": "ipython",
    "version": 3
   },
   "file_extension": ".py",
   "mimetype": "text/x-python",
   "name": "python",
   "nbconvert_exporter": "python",
   "pygments_lexer": "ipython3",
   "version": "3.11.13"
  }
 },
 "nbformat": 4,
 "nbformat_minor": 5
}
